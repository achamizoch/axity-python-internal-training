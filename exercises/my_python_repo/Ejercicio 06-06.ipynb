{
 "cells": [
  {
   "cell_type": "markdown",
   "metadata": {},
   "source": [
    "# Lección 06 - Ejercicio 06"
   ]
  },
  {
   "cell_type": "markdown",
   "metadata": {},
   "source": [
    "### Escriba un bloque código usando bucles y condiciones para determinar, si un número dentro de la lista `es_primo` es número primo o no."
   ]
  },
  {
   "cell_type": "code",
   "execution_count": 1,
   "metadata": {},
   "outputs": [],
   "source": [
    "es_primo = [26, 39, 51, 53, 57, 79, 85]"
   ]
  },
  {
   "cell_type": "code",
   "execution_count": 8,
   "metadata": {},
   "outputs": [
    {
     "name": "stdout",
     "output_type": "stream",
     "text": [
      "26 NO es un número primo, porque 13 es un factor de 26\n",
      "39 NO es un número primo, porque 13 es un factor de 39\n",
      "51 NO es un número primo, porque 17 es un factor de 51\n",
      "53 ES un número primo\n",
      "57 NO es un número primo, porque 19 es un factor de 57\n",
      "79 ES un número primo\n",
      "85 NO es un número primo, porque 17 es un factor de 85\n"
     ]
    }
   ],
   "source": [
    "# Complemente el código\n",
    "for num in es_primo:\n",
    "    for i in range(2, num):\n",
    "        if (num % i) == 0:\n",
    "            print(\"{} NO es un número primo, porque {} es un factor de {}\".format(num, i, num))\n",
    "            break\n",
    "\n",
    "        if i == num -1:    \n",
    "            print(\"{} ES un número primo\".format(num))"
   ]
  },
  {
   "cell_type": "code",
   "execution_count": 7,
   "metadata": {},
   "outputs": [
    {
     "name": "stdout",
     "output_type": "stream",
     "text": [
      "{} ES un número primo\n"
     ]
    }
   ],
   "source": [
    "print(\"{} ES un número primo\")"
   ]
  },
  {
   "cell_type": "code",
   "execution_count": 4,
   "metadata": {},
   "outputs": [
    {
     "name": "stdout",
     "output_type": "stream",
     "text": [
      "{} NO es un número primo, porque {} es un factor de {}\n"
     ]
    }
   ],
   "source": [
    "print(\"{} NO es un número primo, porque {} es un factor de {}\")"
   ]
  },
  {
   "cell_type": "code",
   "execution_count": null,
   "metadata": {},
   "outputs": [],
   "source": []
  }
 ],
 "metadata": {
  "kernelspec": {
   "display_name": "Python 3",
   "language": "python",
   "name": "python3"
  },
  "language_info": {
   "codemirror_mode": {
    "name": "ipython",
    "version": 3
   },
   "file_extension": ".py",
   "mimetype": "text/x-python",
   "name": "python",
   "nbconvert_exporter": "python",
   "pygments_lexer": "ipython3",
   "version": "3.8.5"
  }
 },
 "nbformat": 4,
 "nbformat_minor": 4
}
