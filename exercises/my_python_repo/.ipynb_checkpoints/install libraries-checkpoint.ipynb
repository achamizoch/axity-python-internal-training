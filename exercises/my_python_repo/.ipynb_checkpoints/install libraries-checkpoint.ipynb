{
 "cells": [
  {
   "cell_type": "markdown",
   "metadata": {},
   "source": [
    "# Instalar librerias"
   ]
  },
  {
   "cell_type": "code",
   "execution_count": 1,
   "metadata": {},
   "outputs": [
    {
     "name": "stdout",
     "output_type": "stream",
     "text": [
      "Requirement already satisfied: pandas in /Users/achamizo/opt/anaconda3/lib/python3.8/site-packages (1.1.3)\r\n",
      "Requirement already satisfied: numpy>=1.15.4 in /Users/achamizo/opt/anaconda3/lib/python3.8/site-packages (from pandas) (1.19.2)\r\n",
      "Requirement already satisfied: pytz>=2017.2 in /Users/achamizo/opt/anaconda3/lib/python3.8/site-packages (from pandas) (2020.1)\r\n",
      "Requirement already satisfied: python-dateutil>=2.7.3 in /Users/achamizo/opt/anaconda3/lib/python3.8/site-packages (from pandas) (2.8.1)\r\n",
      "Requirement already satisfied: six>=1.5 in /Users/achamizo/opt/anaconda3/lib/python3.8/site-packages (from python-dateutil>=2.7.3->pandas) (1.15.0)\r\n"
     ]
    }
   ],
   "source": [
    "!pip install pandas"
   ]
  },
  {
   "cell_type": "code",
   "execution_count": 2,
   "metadata": {},
   "outputs": [
    {
     "name": "stdout",
     "output_type": "stream",
     "text": [
      "Collecting qgrid\n",
      "  Downloading qgrid-1.3.1.tar.gz (889 kB)\n",
      "\u001b[K     |████████████████████████████████| 889 kB 1.8 MB/s eta 0:00:01\n",
      "\u001b[?25hRequirement already satisfied: notebook>=4.0.0 in /Users/achamizo/opt/anaconda3/lib/python3.8/site-packages (from qgrid) (6.1.4)\n",
      "Requirement already satisfied: pandas>=0.18.0 in /Users/achamizo/opt/anaconda3/lib/python3.8/site-packages (from qgrid) (1.1.3)\n",
      "Requirement already satisfied: ipywidgets>=7.0.0 in /Users/achamizo/opt/anaconda3/lib/python3.8/site-packages (from qgrid) (7.5.1)\n",
      "Requirement already satisfied: Send2Trash in /Users/achamizo/opt/anaconda3/lib/python3.8/site-packages (from notebook>=4.0.0->qgrid) (1.5.0)\n",
      "Requirement already satisfied: terminado>=0.8.3 in /Users/achamizo/opt/anaconda3/lib/python3.8/site-packages (from notebook>=4.0.0->qgrid) (0.9.1)\n",
      "Requirement already satisfied: nbconvert in /Users/achamizo/opt/anaconda3/lib/python3.8/site-packages (from notebook>=4.0.0->qgrid) (6.0.7)\n",
      "Requirement already satisfied: argon2-cffi in /Users/achamizo/opt/anaconda3/lib/python3.8/site-packages (from notebook>=4.0.0->qgrid) (20.1.0)\n",
      "Requirement already satisfied: prometheus-client in /Users/achamizo/opt/anaconda3/lib/python3.8/site-packages (from notebook>=4.0.0->qgrid) (0.8.0)\n",
      "Requirement already satisfied: tornado>=5.0 in /Users/achamizo/opt/anaconda3/lib/python3.8/site-packages (from notebook>=4.0.0->qgrid) (6.0.4)\n",
      "Requirement already satisfied: jupyter-client>=5.3.4 in /Users/achamizo/opt/anaconda3/lib/python3.8/site-packages (from notebook>=4.0.0->qgrid) (6.1.7)\n",
      "Requirement already satisfied: traitlets>=4.2.1 in /Users/achamizo/opt/anaconda3/lib/python3.8/site-packages (from notebook>=4.0.0->qgrid) (5.0.5)\n",
      "Requirement already satisfied: ipython-genutils in /Users/achamizo/opt/anaconda3/lib/python3.8/site-packages (from notebook>=4.0.0->qgrid) (0.2.0)\n",
      "Requirement already satisfied: nbformat in /Users/achamizo/opt/anaconda3/lib/python3.8/site-packages (from notebook>=4.0.0->qgrid) (5.0.8)\n",
      "Requirement already satisfied: jinja2 in /Users/achamizo/opt/anaconda3/lib/python3.8/site-packages (from notebook>=4.0.0->qgrid) (2.11.2)\n",
      "Requirement already satisfied: pyzmq>=17 in /Users/achamizo/opt/anaconda3/lib/python3.8/site-packages (from notebook>=4.0.0->qgrid) (19.0.2)\n",
      "Requirement already satisfied: ipykernel in /Users/achamizo/opt/anaconda3/lib/python3.8/site-packages (from notebook>=4.0.0->qgrid) (5.3.4)\n",
      "Requirement already satisfied: jupyter-core>=4.6.1 in /Users/achamizo/opt/anaconda3/lib/python3.8/site-packages (from notebook>=4.0.0->qgrid) (4.6.3)\n",
      "Requirement already satisfied: numpy>=1.15.4 in /Users/achamizo/opt/anaconda3/lib/python3.8/site-packages (from pandas>=0.18.0->qgrid) (1.19.2)\n",
      "Requirement already satisfied: pytz>=2017.2 in /Users/achamizo/opt/anaconda3/lib/python3.8/site-packages (from pandas>=0.18.0->qgrid) (2020.1)\n",
      "Requirement already satisfied: python-dateutil>=2.7.3 in /Users/achamizo/opt/anaconda3/lib/python3.8/site-packages (from pandas>=0.18.0->qgrid) (2.8.1)\n",
      "Requirement already satisfied: ipython>=4.0.0; python_version >= \"3.3\" in /Users/achamizo/opt/anaconda3/lib/python3.8/site-packages (from ipywidgets>=7.0.0->qgrid) (7.19.0)\n",
      "Requirement already satisfied: widgetsnbextension~=3.5.0 in /Users/achamizo/opt/anaconda3/lib/python3.8/site-packages (from ipywidgets>=7.0.0->qgrid) (3.5.1)\n",
      "Requirement already satisfied: ptyprocess in /Users/achamizo/opt/anaconda3/lib/python3.8/site-packages (from terminado>=0.8.3->notebook>=4.0.0->qgrid) (0.6.0)\n",
      "Requirement already satisfied: bleach in /Users/achamizo/opt/anaconda3/lib/python3.8/site-packages (from nbconvert->notebook>=4.0.0->qgrid) (3.2.1)\n",
      "Requirement already satisfied: testpath in /Users/achamizo/opt/anaconda3/lib/python3.8/site-packages (from nbconvert->notebook>=4.0.0->qgrid) (0.4.4)\n",
      "Requirement already satisfied: defusedxml in /Users/achamizo/opt/anaconda3/lib/python3.8/site-packages (from nbconvert->notebook>=4.0.0->qgrid) (0.6.0)\n",
      "Requirement already satisfied: jupyterlab-pygments in /Users/achamizo/opt/anaconda3/lib/python3.8/site-packages (from nbconvert->notebook>=4.0.0->qgrid) (0.1.2)\n",
      "Requirement already satisfied: entrypoints>=0.2.2 in /Users/achamizo/opt/anaconda3/lib/python3.8/site-packages (from nbconvert->notebook>=4.0.0->qgrid) (0.3)\n",
      "Requirement already satisfied: pandocfilters>=1.4.1 in /Users/achamizo/opt/anaconda3/lib/python3.8/site-packages (from nbconvert->notebook>=4.0.0->qgrid) (1.4.3)\n",
      "Requirement already satisfied: nbclient<0.6.0,>=0.5.0 in /Users/achamizo/opt/anaconda3/lib/python3.8/site-packages (from nbconvert->notebook>=4.0.0->qgrid) (0.5.1)\n",
      "Requirement already satisfied: mistune<2,>=0.8.1 in /Users/achamizo/opt/anaconda3/lib/python3.8/site-packages (from nbconvert->notebook>=4.0.0->qgrid) (0.8.4)\n",
      "Requirement already satisfied: pygments>=2.4.1 in /Users/achamizo/opt/anaconda3/lib/python3.8/site-packages (from nbconvert->notebook>=4.0.0->qgrid) (2.7.2)\n",
      "Requirement already satisfied: six in /Users/achamizo/opt/anaconda3/lib/python3.8/site-packages (from argon2-cffi->notebook>=4.0.0->qgrid) (1.15.0)\n",
      "Requirement already satisfied: cffi>=1.0.0 in /Users/achamizo/opt/anaconda3/lib/python3.8/site-packages (from argon2-cffi->notebook>=4.0.0->qgrid) (1.14.3)\n",
      "Requirement already satisfied: jsonschema!=2.5.0,>=2.4 in /Users/achamizo/opt/anaconda3/lib/python3.8/site-packages (from nbformat->notebook>=4.0.0->qgrid) (3.2.0)\n",
      "Requirement already satisfied: MarkupSafe>=0.23 in /Users/achamizo/opt/anaconda3/lib/python3.8/site-packages (from jinja2->notebook>=4.0.0->qgrid) (1.1.1)\n",
      "Requirement already satisfied: appnope; platform_system == \"Darwin\" in /Users/achamizo/opt/anaconda3/lib/python3.8/site-packages (from ipykernel->notebook>=4.0.0->qgrid) (0.1.0)\n",
      "Requirement already satisfied: decorator in /Users/achamizo/opt/anaconda3/lib/python3.8/site-packages (from ipython>=4.0.0; python_version >= \"3.3\"->ipywidgets>=7.0.0->qgrid) (4.4.2)\n",
      "Requirement already satisfied: setuptools>=18.5 in /Users/achamizo/opt/anaconda3/lib/python3.8/site-packages (from ipython>=4.0.0; python_version >= \"3.3\"->ipywidgets>=7.0.0->qgrid) (50.3.1.post20201107)\n",
      "Requirement already satisfied: prompt-toolkit!=3.0.0,!=3.0.1,<3.1.0,>=2.0.0 in /Users/achamizo/opt/anaconda3/lib/python3.8/site-packages (from ipython>=4.0.0; python_version >= \"3.3\"->ipywidgets>=7.0.0->qgrid) (3.0.8)\n",
      "Requirement already satisfied: pexpect>4.3; sys_platform != \"win32\" in /Users/achamizo/opt/anaconda3/lib/python3.8/site-packages (from ipython>=4.0.0; python_version >= \"3.3\"->ipywidgets>=7.0.0->qgrid) (4.8.0)\n",
      "Requirement already satisfied: backcall in /Users/achamizo/opt/anaconda3/lib/python3.8/site-packages (from ipython>=4.0.0; python_version >= \"3.3\"->ipywidgets>=7.0.0->qgrid) (0.2.0)\n",
      "Requirement already satisfied: jedi>=0.10 in /Users/achamizo/opt/anaconda3/lib/python3.8/site-packages (from ipython>=4.0.0; python_version >= \"3.3\"->ipywidgets>=7.0.0->qgrid) (0.17.1)\n",
      "Requirement already satisfied: pickleshare in /Users/achamizo/opt/anaconda3/lib/python3.8/site-packages (from ipython>=4.0.0; python_version >= \"3.3\"->ipywidgets>=7.0.0->qgrid) (0.7.5)\n",
      "Requirement already satisfied: packaging in /Users/achamizo/opt/anaconda3/lib/python3.8/site-packages (from bleach->nbconvert->notebook>=4.0.0->qgrid) (20.4)\n",
      "Requirement already satisfied: webencodings in /Users/achamizo/opt/anaconda3/lib/python3.8/site-packages (from bleach->nbconvert->notebook>=4.0.0->qgrid) (0.5.1)\n",
      "Requirement already satisfied: async-generator in /Users/achamizo/opt/anaconda3/lib/python3.8/site-packages (from nbclient<0.6.0,>=0.5.0->nbconvert->notebook>=4.0.0->qgrid) (1.10)\n",
      "Requirement already satisfied: nest-asyncio in /Users/achamizo/opt/anaconda3/lib/python3.8/site-packages (from nbclient<0.6.0,>=0.5.0->nbconvert->notebook>=4.0.0->qgrid) (1.4.2)\n",
      "Requirement already satisfied: pycparser in /Users/achamizo/opt/anaconda3/lib/python3.8/site-packages (from cffi>=1.0.0->argon2-cffi->notebook>=4.0.0->qgrid) (2.20)\n",
      "Requirement already satisfied: attrs>=17.4.0 in /Users/achamizo/opt/anaconda3/lib/python3.8/site-packages (from jsonschema!=2.5.0,>=2.4->nbformat->notebook>=4.0.0->qgrid) (20.3.0)\n",
      "Requirement already satisfied: pyrsistent>=0.14.0 in /Users/achamizo/opt/anaconda3/lib/python3.8/site-packages (from jsonschema!=2.5.0,>=2.4->nbformat->notebook>=4.0.0->qgrid) (0.17.3)\n"
     ]
    },
    {
     "name": "stdout",
     "output_type": "stream",
     "text": [
      "Requirement already satisfied: wcwidth in /Users/achamizo/opt/anaconda3/lib/python3.8/site-packages (from prompt-toolkit!=3.0.0,!=3.0.1,<3.1.0,>=2.0.0->ipython>=4.0.0; python_version >= \"3.3\"->ipywidgets>=7.0.0->qgrid) (0.2.5)\n",
      "Requirement already satisfied: parso<0.8.0,>=0.7.0 in /Users/achamizo/opt/anaconda3/lib/python3.8/site-packages (from jedi>=0.10->ipython>=4.0.0; python_version >= \"3.3\"->ipywidgets>=7.0.0->qgrid) (0.7.0)\n",
      "Requirement already satisfied: pyparsing>=2.0.2 in /Users/achamizo/opt/anaconda3/lib/python3.8/site-packages (from packaging->bleach->nbconvert->notebook>=4.0.0->qgrid) (2.4.7)\n",
      "Building wheels for collected packages: qgrid\n",
      "  Building wheel for qgrid (setup.py) ... \u001b[?25ldone\n",
      "\u001b[?25h  Created wheel for qgrid: filename=qgrid-1.3.1-py2.py3-none-any.whl size=1761258 sha256=d9b509e4489cb2e775328d996786e50f0d0bf57871aa3647dcfc6fa648883354\n",
      "  Stored in directory: /Users/achamizo/Library/Caches/pip/wheels/4a/65/d3/ec3d01337551a41a66aa7fe06c4d775b4a6a8ca798244a7e84\n",
      "Successfully built qgrid\n",
      "Installing collected packages: qgrid\n",
      "Successfully installed qgrid-1.3.1\n"
     ]
    }
   ],
   "source": [
    "!pip install qgrid"
   ]
  },
  {
   "cell_type": "code",
   "execution_count": 3,
   "metadata": {},
   "outputs": [
    {
     "name": "stdout",
     "output_type": "stream",
     "text": [
      "Requirement already satisfied: scipy in /Users/achamizo/opt/anaconda3/lib/python3.8/site-packages (1.5.2)\n",
      "Requirement already satisfied: numpy>=1.14.5 in /Users/achamizo/opt/anaconda3/lib/python3.8/site-packages (from scipy) (1.19.2)\n"
     ]
    }
   ],
   "source": [
    "!pip install scipy"
   ]
  },
  {
   "cell_type": "code",
   "execution_count": 4,
   "metadata": {},
   "outputs": [
    {
     "name": "stdout",
     "output_type": "stream",
     "text": [
      "Requirement already satisfied: matplotlib in /Users/achamizo/opt/anaconda3/lib/python3.8/site-packages (3.3.2)\n",
      "Requirement already satisfied: kiwisolver>=1.0.1 in /Users/achamizo/opt/anaconda3/lib/python3.8/site-packages (from matplotlib) (1.3.0)\n",
      "Requirement already satisfied: pyparsing!=2.0.4,!=2.1.2,!=2.1.6,>=2.0.3 in /Users/achamizo/opt/anaconda3/lib/python3.8/site-packages (from matplotlib) (2.4.7)\n",
      "Requirement already satisfied: pillow>=6.2.0 in /Users/achamizo/opt/anaconda3/lib/python3.8/site-packages (from matplotlib) (8.0.1)\n",
      "Requirement already satisfied: cycler>=0.10 in /Users/achamizo/opt/anaconda3/lib/python3.8/site-packages (from matplotlib) (0.10.0)\n",
      "Requirement already satisfied: certifi>=2020.06.20 in /Users/achamizo/opt/anaconda3/lib/python3.8/site-packages (from matplotlib) (2020.6.20)\n",
      "Requirement already satisfied: numpy>=1.15 in /Users/achamizo/opt/anaconda3/lib/python3.8/site-packages (from matplotlib) (1.19.2)\n",
      "Requirement already satisfied: python-dateutil>=2.1 in /Users/achamizo/opt/anaconda3/lib/python3.8/site-packages (from matplotlib) (2.8.1)\n",
      "Requirement already satisfied: six in /Users/achamizo/opt/anaconda3/lib/python3.8/site-packages (from cycler>=0.10->matplotlib) (1.15.0)\n"
     ]
    }
   ],
   "source": [
    "!pip install matplotlib"
   ]
  },
  {
   "cell_type": "code",
   "execution_count": 5,
   "metadata": {},
   "outputs": [
    {
     "name": "stdout",
     "output_type": "stream",
     "text": [
      "Requirement already satisfied: seaborn in /Users/achamizo/opt/anaconda3/lib/python3.8/site-packages (0.11.0)\n",
      "Requirement already satisfied: scipy>=1.0 in /Users/achamizo/opt/anaconda3/lib/python3.8/site-packages (from seaborn) (1.5.2)\n",
      "Requirement already satisfied: matplotlib>=2.2 in /Users/achamizo/opt/anaconda3/lib/python3.8/site-packages (from seaborn) (3.3.2)\n",
      "Requirement already satisfied: pandas>=0.23 in /Users/achamizo/opt/anaconda3/lib/python3.8/site-packages (from seaborn) (1.1.3)\n",
      "Requirement already satisfied: numpy>=1.15 in /Users/achamizo/opt/anaconda3/lib/python3.8/site-packages (from seaborn) (1.19.2)\n",
      "Requirement already satisfied: certifi>=2020.06.20 in /Users/achamizo/opt/anaconda3/lib/python3.8/site-packages (from matplotlib>=2.2->seaborn) (2020.6.20)\n",
      "Requirement already satisfied: cycler>=0.10 in /Users/achamizo/opt/anaconda3/lib/python3.8/site-packages (from matplotlib>=2.2->seaborn) (0.10.0)\n",
      "Requirement already satisfied: kiwisolver>=1.0.1 in /Users/achamizo/opt/anaconda3/lib/python3.8/site-packages (from matplotlib>=2.2->seaborn) (1.3.0)\n",
      "Requirement already satisfied: pillow>=6.2.0 in /Users/achamizo/opt/anaconda3/lib/python3.8/site-packages (from matplotlib>=2.2->seaborn) (8.0.1)\n",
      "Requirement already satisfied: python-dateutil>=2.1 in /Users/achamizo/opt/anaconda3/lib/python3.8/site-packages (from matplotlib>=2.2->seaborn) (2.8.1)\n",
      "Requirement already satisfied: pyparsing!=2.0.4,!=2.1.2,!=2.1.6,>=2.0.3 in /Users/achamizo/opt/anaconda3/lib/python3.8/site-packages (from matplotlib>=2.2->seaborn) (2.4.7)\n",
      "Requirement already satisfied: pytz>=2017.2 in /Users/achamizo/opt/anaconda3/lib/python3.8/site-packages (from pandas>=0.23->seaborn) (2020.1)\n",
      "Requirement already satisfied: six in /Users/achamizo/opt/anaconda3/lib/python3.8/site-packages (from cycler>=0.10->matplotlib>=2.2->seaborn) (1.15.0)\n"
     ]
    }
   ],
   "source": [
    "!pip install seaborn"
   ]
  },
  {
   "cell_type": "code",
   "execution_count": 6,
   "metadata": {},
   "outputs": [
    {
     "name": "stdout",
     "output_type": "stream",
     "text": [
      "Collecting plotly\n",
      "  Downloading plotly-4.14.1-py2.py3-none-any.whl (13.2 MB)\n",
      "\u001b[K     |████████████████████████████████| 13.2 MB 1.8 MB/s eta 0:00:01\n",
      "\u001b[?25hRequirement already satisfied: six in /Users/achamizo/opt/anaconda3/lib/python3.8/site-packages (from plotly) (1.15.0)\n",
      "Collecting retrying>=1.3.3\n",
      "  Downloading retrying-1.3.3.tar.gz (10 kB)\n",
      "Building wheels for collected packages: retrying\n",
      "  Building wheel for retrying (setup.py) ... \u001b[?25ldone\n",
      "\u001b[?25h  Created wheel for retrying: filename=retrying-1.3.3-py3-none-any.whl size=11429 sha256=46406c80fa5268a05a7b314472638f31d78a627cc2e1559e0938f1d07b1322f7\n",
      "  Stored in directory: /Users/achamizo/Library/Caches/pip/wheels/c4/a7/48/0a434133f6d56e878ca511c0e6c38326907c0792f67b476e56\n",
      "Successfully built retrying\n",
      "Installing collected packages: retrying, plotly\n",
      "Successfully installed plotly-4.14.1 retrying-1.3.3\n"
     ]
    }
   ],
   "source": [
    "!pip install plotly"
   ]
  },
  {
   "cell_type": "code",
   "execution_count": 7,
   "metadata": {},
   "outputs": [
    {
     "name": "stdout",
     "output_type": "stream",
     "text": [
      "Enabling notebook extension qgrid/extension...\r\n",
      "      - Validating: \u001b[32mOK\u001b[0m\r\n"
     ]
    }
   ],
   "source": [
    "!jupyter nbextension enable --py --sys-prefix qgrid"
   ]
  },
  {
   "cell_type": "code",
   "execution_count": null,
   "metadata": {},
   "outputs": [],
   "source": []
  }
 ],
 "metadata": {
  "kernelspec": {
   "display_name": "Python 3",
   "language": "python",
   "name": "python3"
  },
  "language_info": {
   "codemirror_mode": {
    "name": "ipython",
    "version": 3
   },
   "file_extension": ".py",
   "mimetype": "text/x-python",
   "name": "python",
   "nbconvert_exporter": "python",
   "pygments_lexer": "ipython3",
   "version": "3.8.5"
  }
 },
 "nbformat": 4,
 "nbformat_minor": 4
}
