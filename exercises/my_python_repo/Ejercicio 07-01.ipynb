{
 "cells": [
  {
   "cell_type": "markdown",
   "metadata": {},
   "source": [
    "# Lección 07 - Ejercicio 01"
   ]
  },
  {
   "cell_type": "markdown",
   "metadata": {},
   "source": [
    "### 1. Escriba una función que calcule la densidad poblacional, con base en dos argumentos: `poblacion` y `superficie`."
   ]
  },
  {
   "cell_type": "code",
   "execution_count": 5,
   "metadata": {},
   "outputs": [],
   "source": [
    "# Complemente el código\n",
    "def densidad_poblacional(poblacion,superficie):    \n",
    "    return poblacion/superficie\n",
    "\n",
    "densidad = densidad_poblacional(8250, 11500)\n"
   ]
  },
  {
   "cell_type": "code",
   "execution_count": 6,
   "metadata": {},
   "outputs": [
    {
     "name": "stdout",
     "output_type": "stream",
     "text": [
      "Densidad poblacional: 0.717391304347826\n"
     ]
    }
   ],
   "source": [
    "print(\"Densidad poblacional: {}\".format(densidad))"
   ]
  },
  {
   "cell_type": "markdown",
   "metadata": {},
   "source": [
    "### 2. Escriba una función que reciba como parámetro un valor entero, el cual represente un número determinado de días. La función debe devolver el número de semanas y el número de días remanentes.\n",
    "\n",
    "Por ejemplo, para un valor de 10 días, el resultado debería verse así:\n",
    "\n",
    "`1 semana(s) y 3 día(s).`"
   ]
  },
  {
   "cell_type": "code",
   "execution_count": 13,
   "metadata": {},
   "outputs": [],
   "source": [
    "# Complemente el código\n",
    "def intervalo(dias):\n",
    "    semanas = dias // 7\n",
    "    remanente = dias % 7\n",
    "    return semanas, remanente\n",
    "\n",
    "semanas, remanente = intervalo(18)"
   ]
  },
  {
   "cell_type": "code",
   "execution_count": 14,
   "metadata": {},
   "outputs": [
    {
     "name": "stdout",
     "output_type": "stream",
     "text": [
      "2 semana(s) y 4 día(s).\n"
     ]
    }
   ],
   "source": [
    "print( \"{} semana(s) y {} día(s).\".format(semanas, remanente))"
   ]
  },
  {
   "cell_type": "code",
   "execution_count": null,
   "metadata": {},
   "outputs": [],
   "source": []
  }
 ],
 "metadata": {
  "kernelspec": {
   "display_name": "Python 3",
   "language": "python",
   "name": "python3"
  },
  "language_info": {
   "codemirror_mode": {
    "name": "ipython",
    "version": 3
   },
   "file_extension": ".py",
   "mimetype": "text/x-python",
   "name": "python",
   "nbconvert_exporter": "python",
   "pygments_lexer": "ipython3",
   "version": "3.7.6"
  }
 },
 "nbformat": 4,
 "nbformat_minor": 4
}
