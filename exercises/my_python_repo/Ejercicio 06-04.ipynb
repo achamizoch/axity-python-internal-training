{
 "cells": [
  {
   "cell_type": "markdown",
   "metadata": {},
   "source": [
    "# Lección 06 - Ejercicio 04"
   ]
  },
  {
   "cell_type": "markdown",
   "metadata": {},
   "source": [
    "### Escriba un bucle `for` para contar el número de frutas que existen en `elementos_canasta`. Para identificar que elementos son frutas, use la lista `frutas`.\n",
    "\n",
    "Como recomendación utilice el metodo `items()`"
   ]
  },
  {
   "cell_type": "code",
   "execution_count": 19,
   "metadata": {},
   "outputs": [],
   "source": [
    "contador_frutas, contador_no_frutas = 0, 0\n",
    "elementos_canasta = {'manzanas': 4, 'naranjas': 19, 'papalotes': 3, 'sandwiches': 8}\n",
    "frutas = ['manzanas', 'naranjas', 'peras', 'duranzos', 'uvas', 'plátanos']"
   ]
  },
  {
   "cell_type": "code",
   "execution_count": 20,
   "metadata": {},
   "outputs": [],
   "source": [
    "# Complemente el código\n",
    "for i in elementos_canasta.items():\n",
    "    if i[0] in frutas:\n",
    "        contador_frutas+=elementos_canasta[i[0]]\n",
    "    else:\n",
    "        contador_no_frutas+=elementos_canasta[i[0]]\n",
    "    "
   ]
  },
  {
   "cell_type": "code",
   "execution_count": 22,
   "metadata": {},
   "outputs": [
    {
     "data": {
      "text/plain": [
       "('sandwiches', 8)"
      ]
     },
     "execution_count": 22,
     "metadata": {},
     "output_type": "execute_result"
    }
   ],
   "source": [
    "i"
   ]
  },
  {
   "cell_type": "code",
   "execution_count": 21,
   "metadata": {},
   "outputs": [
    {
     "name": "stdout",
     "output_type": "stream",
     "text": [
      "El número de frutas es 23. Hay 11 objetos que no son frutas.\n"
     ]
    }
   ],
   "source": [
    "print(\"El número de frutas es {}. Hay {} objetos que no son frutas.\".format(contador_frutas, contador_no_frutas))"
   ]
  },
  {
   "cell_type": "code",
   "execution_count": 23,
   "metadata": {},
   "outputs": [],
   "source": [
    "baraja = [4, 11, 8, 5, 13, 2, 8, 10]\n",
    "mano = []\n",
    "\n",
    "# agrega a mano los elementos de la lista baraja mientras la suma total sea menor a 17\n",
    "while sum(mano) < 17:\n",
    "    mano.append(baraja.pop())"
   ]
  },
  {
   "cell_type": "code",
   "execution_count": 24,
   "metadata": {},
   "outputs": [
    {
     "data": {
      "text/plain": [
       "[10, 8]"
      ]
     },
     "execution_count": 24,
     "metadata": {},
     "output_type": "execute_result"
    }
   ],
   "source": [
    "mano"
   ]
  }
 ],
 "metadata": {
  "kernelspec": {
   "display_name": "Python 3",
   "language": "python",
   "name": "python3"
  },
  "language_info": {
   "codemirror_mode": {
    "name": "ipython",
    "version": 3
   },
   "file_extension": ".py",
   "mimetype": "text/x-python",
   "name": "python",
   "nbconvert_exporter": "python",
   "pygments_lexer": "ipython3",
   "version": "3.8.5"
  }
 },
 "nbformat": 4,
 "nbformat_minor": 4
}
